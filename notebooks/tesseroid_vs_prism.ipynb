{
 "metadata": {
  "name": "",
  "signature": "sha256:3e5ee2e2a68a1bedfad7590925f347e0213907bbc8131057c20967be39299b71"
 },
 "nbformat": 3,
 "nbformat_minor": 0,
 "worksheets": [
  {
   "cells": [
    {
     "cell_type": "code",
     "collapsed": false,
     "input": [
      "%matplotlib inline"
     ],
     "language": "python",
     "metadata": {},
     "outputs": [],
     "prompt_number": 1
    },
    {
     "cell_type": "code",
     "collapsed": false,
     "input": [
      "from os.path import join\n",
      "from pandas import DataFrame\n",
      "import numpy as np\n",
      "from fatiando.mesher import Tesseroid\n",
      "from fatiando import gridder\n",
      "from fatiando.vis import mpl, myv\n",
      "from fatiando.constants import MEAN_EARTH_RADIUS\n",
      "\n",
      "filedir = 'tesseroid_vs_prism_files'"
     ],
     "language": "python",
     "metadata": {},
     "outputs": [],
     "prompt_number": 2
    },
    {
     "cell_type": "code",
     "collapsed": false,
     "input": [
      "def dump_tess(model, outfile):\n",
      "    with open(outfile, 'w') as f:\n",
      "        for t in model:\n",
      "            f.write('{} {} {} {} {} {} {}\\n'.format(\n",
      "                t.w, t.e, t.s, t.n, t.top, t.bottom, t.props['density']))"
     ],
     "language": "python",
     "metadata": {},
     "outputs": [],
     "prompt_number": 3
    },
    {
     "cell_type": "code",
     "collapsed": false,
     "input": [
      "def make_model_files(size):\n",
      "    # Make a tesseroid model\n",
      "    model = Tesseroid(0, size, 0, size, 0, -111000*size, {'density':2670})\n",
      "    tess_file = join(filedir, 'tesseroid-{}.txt'.format(size))\n",
      "    dump_tess([model], tess_file)    \n",
      "    # Split into many\n",
      "    split_file = join(filedir, 'tesseroid-split-{}.txt'.format(size))\n",
      "    dump_tess(model.split(20, 20, 20), split_file)\n",
      "    # ... and convert them into prisms\n",
      "    prism_file = join(filedir, 'tesseroid-split-prisms-{}.txt'.format(size))\n",
      "    !tess2prism $split_file > $prism_file\n",
      "    # Perfom some sanity checks\n",
      "    mass = !tessmass $tess_file\n",
      "    mass = float(mass[0])\n",
      "    dx, dy, dz, dens = np.loadtxt(prism_file, unpack=True, usecols=range(4))\n",
      "    prism_mass = np.sum(dx*dy*dz*dens)\n",
      "    assert abs(prism_mass - mass)/mass < 1e-10, 'Tesseroid and prism model have different sizes'\n",
      "    return tess_file, prism_file"
     ],
     "language": "python",
     "metadata": {},
     "outputs": [],
     "prompt_number": 46
    },
    {
     "cell_type": "code",
     "collapsed": false,
     "input": [
      "def make_grid_file(size):\n",
      "    # Make many data grids for this size tesseroid\n",
      "    gridsize = 2*size\n",
      "    area = [-gridsize, gridsize, -gridsize, gridsize]\n",
      "    shape = (20, 20)\n",
      "    grdflags = '-r{} -b{}'.format('/'.join(map(str, area)), '/'.join(map(str, shape)))\n",
      "    grid_file = join(filedir, 'grid-{}.txt'.format(size))\n",
      "    !echo > $grid_file\n",
      "    for h in np.linspace(1000, 5*size*100000, 5, endpoint=True):\n",
      "        !tessgrd $grdflags -z$h >> $grid_file\n",
      "    return grid_file"
     ],
     "language": "python",
     "metadata": {},
     "outputs": [],
     "prompt_number": 47
    },
    {
     "cell_type": "code",
     "collapsed": false,
     "input": [
      "def compare(sizes, ratios):\n",
      "    columns = ['lon', 'lat', 'height', 'potential', 'gx', 'gy', 'gz', 'gxx', 'gxy', 'gxz', 'gyy', 'gyz', 'gzz']\n",
      "    prism_data = DataFrame({}, columns=['size'] + columns)\n",
      "    tess_data = DataFrame({}, columns=['ratio', 'size'] + columns)\n",
      "    for size in sizes:\n",
      "        print \"Calculating size {}...\".format(size)\n",
      "        tess_file, prism_file = make_model_files(size)\n",
      "        grid_file = make_grid_file(size)\n",
      "        lon, lat, height = np.loadtxt(grid_file, unpack=True)\n",
      "        assert lon.shape == lat.shape == height.shape\n",
      "        n = lon.size\n",
      "        # Calculate the prism effect\n",
      "        prism_effect_file = join(filedir, 'prism-effect-{}.txt'.format(size))\n",
      "        !cat $grid_file | prismpots $prism_file | prismgs $prism_file | prismggts $prism_file > $prism_effect_file\n",
      "        prism_data = prism_data.append(\n",
      "            DataFrame(np.loadtxt(prism_effect_file), columns=columns).join(\n",
      "                DataFrame(size*np.ones(n), columns=['size'])), \n",
      "            ignore_index=True)\n",
      "        print '  Prism effect done.'\n",
      "        # Calculate the tesseroid effect for varying ratio\n",
      "        for ratio in ratios:\n",
      "            tess_effect_file = join(filedir, 'tess-effect-{}-r{}.txt'.format(size, ratio))\n",
      "            flags = ' '.join([tess_file, '-t{}'.format(ratio)])\n",
      "            !cat $grid_file | tesspot $flags | tessgx $flags | tessgy $flags | tessgz $flags | tessgxx $flags | tessgxy $flags | \\\n",
      "                tessgxz $flags | tessgyy $flags | tessgyz $flags | tessgzz $flags > $tess_effect_file\n",
      "            tess_data = tess_data.append(\n",
      "                DataFrame(np.loadtxt(tess_effect_file), columns=columns).join(\n",
      "                    DataFrame({'ratio': ratio*np.ones(n), 'size': size*np.ones(n)})),\n",
      "                ignore_index=True)\n",
      "            print '  Ratio {} done.'.format(ratio)\n",
      "    print 'Done'\n",
      "    return prism_data, tess_data"
     ],
     "language": "python",
     "metadata": {},
     "outputs": [],
     "prompt_number": 6
    },
    {
     "cell_type": "code",
     "collapsed": false,
     "input": [
      "sizes = [0.01, 0.1, 1, 10]\n",
      "prism_data, tess_data = compare(sizes, ratios=range(1, 11))"
     ],
     "language": "python",
     "metadata": {},
     "outputs": [
      {
       "output_type": "stream",
       "stream": "stdout",
       "text": [
        "Calculating size 0.1...\n"
       ]
      },
      {
       "output_type": "stream",
       "stream": "stdout",
       "text": [
        "  Ratio 1 done.\n"
       ]
      },
      {
       "output_type": "stream",
       "stream": "stdout",
       "text": [
        "  Ratio 2 done.\n"
       ]
      },
      {
       "output_type": "stream",
       "stream": "stdout",
       "text": [
        "  Ratio 3 done.\n"
       ]
      },
      {
       "output_type": "stream",
       "stream": "stdout",
       "text": [
        "  Ratio 4 done.\n"
       ]
      },
      {
       "output_type": "stream",
       "stream": "stdout",
       "text": [
        "  Ratio 5 done.\n"
       ]
      },
      {
       "output_type": "stream",
       "stream": "stdout",
       "text": [
        "  Ratio 6 done.\n"
       ]
      },
      {
       "output_type": "stream",
       "stream": "stdout",
       "text": [
        "  Ratio 7 done.\n"
       ]
      },
      {
       "output_type": "stream",
       "stream": "stdout",
       "text": [
        "  Ratio 8 done.\n"
       ]
      },
      {
       "output_type": "stream",
       "stream": "stdout",
       "text": [
        "  Ratio 9 done.\n"
       ]
      },
      {
       "output_type": "stream",
       "stream": "stdout",
       "text": [
        "  Ratio 10 done.\n",
        "Calculating size 1...\n"
       ]
      },
      {
       "output_type": "stream",
       "stream": "stdout",
       "text": [
        "  Ratio 1 done.\n"
       ]
      },
      {
       "output_type": "stream",
       "stream": "stdout",
       "text": [
        "  Ratio 2 done.\n"
       ]
      },
      {
       "output_type": "stream",
       "stream": "stdout",
       "text": [
        "  Ratio 3 done.\n"
       ]
      },
      {
       "output_type": "stream",
       "stream": "stdout",
       "text": [
        "  Ratio 4 done.\n"
       ]
      },
      {
       "output_type": "stream",
       "stream": "stdout",
       "text": [
        "  Ratio 5 done.\n"
       ]
      },
      {
       "output_type": "stream",
       "stream": "stdout",
       "text": [
        "  Ratio 6 done.\n"
       ]
      },
      {
       "output_type": "stream",
       "stream": "stdout",
       "text": [
        "  Ratio 7 done.\n"
       ]
      },
      {
       "output_type": "stream",
       "stream": "stdout",
       "text": [
        "  Ratio 8 done.\n"
       ]
      },
      {
       "output_type": "stream",
       "stream": "stdout",
       "text": [
        "  Ratio 9 done.\n"
       ]
      },
      {
       "output_type": "stream",
       "stream": "stdout",
       "text": [
        "  Ratio 10 done.\n",
        "Calculating size 10...\n"
       ]
      },
      {
       "output_type": "stream",
       "stream": "stdout",
       "text": [
        "  Ratio 1 done.\n"
       ]
      },
      {
       "output_type": "stream",
       "stream": "stdout",
       "text": [
        "  Ratio 2 done.\n"
       ]
      },
      {
       "output_type": "stream",
       "stream": "stdout",
       "text": [
        "  Ratio 3 done.\n"
       ]
      },
      {
       "output_type": "stream",
       "stream": "stdout",
       "text": [
        "  Ratio 4 done.\n"
       ]
      },
      {
       "output_type": "stream",
       "stream": "stdout",
       "text": [
        "  Ratio 5 done.\n"
       ]
      },
      {
       "output_type": "stream",
       "stream": "stdout",
       "text": [
        "  Ratio 6 done.\n"
       ]
      },
      {
       "output_type": "stream",
       "stream": "stdout",
       "text": [
        "  Ratio 7 done.\n"
       ]
      },
      {
       "output_type": "stream",
       "stream": "stdout",
       "text": [
        "  Ratio 8 done.\n"
       ]
      },
      {
       "output_type": "stream",
       "stream": "stdout",
       "text": [
        "  Ratio 9 done.\n"
       ]
      },
      {
       "output_type": "stream",
       "stream": "stdout",
       "text": [
        "  Ratio 10 done.\n",
        "Done\n"
       ]
      }
     ],
     "prompt_number": 44
    },
    {
     "cell_type": "code",
     "collapsed": false,
     "input": [
      "prism_data.shape"
     ],
     "language": "python",
     "metadata": {},
     "outputs": [
      {
       "metadata": {},
       "output_type": "pyout",
       "prompt_number": 35,
       "text": [
        "(225, 14)"
       ]
      }
     ],
     "prompt_number": 35
    },
    {
     "cell_type": "code",
     "collapsed": false,
     "input": [
      "tess_data.shape"
     ],
     "language": "python",
     "metadata": {},
     "outputs": [
      {
       "metadata": {},
       "output_type": "pyout",
       "prompt_number": 36,
       "text": [
        "(2250, 15)"
       ]
      }
     ],
     "prompt_number": 36
    },
    {
     "cell_type": "code",
     "collapsed": false,
     "input": [
      "prism_data.to_csv(join(filedir, 'prism_data.csv'), index=False)\n",
      "tess_data.to_csv(join(filedir, 'tesseroid_data.csv'), index=False)"
     ],
     "language": "python",
     "metadata": {},
     "outputs": [],
     "prompt_number": 39
    },
    {
     "cell_type": "code",
     "collapsed": false,
     "input": [
      "def plot_max_error(tess, prism, size, field, relative=False):\n",
      "    tmp = tess[tess.size == size]\n",
      "    x = tmp.ratio.unique()\n",
      "    y = np.empty_like(x)\n",
      "    for i, ratio in enumerate(x):\n",
      "        diff = np.abs(tmp[tmp.ratio == ratio][field].as_matrix() - prism[prism.size == size][field].as_matrix())\n",
      "        if relative:\n",
      "            diff /= np.abs(prism[prism.size == size][field].as_matrix())\n",
      "            diff *= 100\n",
      "        y[i] = diff.max()\n",
      "    units = dict(potential=r'$m^2.s^{-2}$', gx='mGal', gy='mGal', gz='mGal', \n",
      "                 gxx='Eotvos', gxy='Eotvos', gxz='Eotvos', gyy='Eotvos', gyz='Eotvos', gzz='Eotvos')\n",
      "    mpl.figure()\n",
      "    mpl.title('{}: size {}'.format(field, size))\n",
      "    mpl.plot(x, y, '-')\n",
      "    ax = mpl.gca()\n",
      "    ax.set_yscale('log')\n",
      "    mpl.grid(True)\n",
      "    mpl.xlabel('distance/size ratio')\n",
      "    mpl.ylabel('difference ({})'.format('%' if relative else units[field]))"
     ],
     "language": "python",
     "metadata": {},
     "outputs": [],
     "prompt_number": 42
    },
    {
     "cell_type": "code",
     "collapsed": false,
     "input": [
      "for size in sizes:\n",
      "    plot_max_error(tess_data, prism_data, size, 'gz')"
     ],
     "language": "python",
     "metadata": {},
     "outputs": [
      {
       "metadata": {},
       "output_type": "display_data",
       "png": "[encoded data removed]",
       "text": [
        "<matplotlib.figure.Figure at 0x3af9f50>"
       ]
      },
      {
       "metadata": {},
       "output_type": "display_data",
       "png": "[encoded data removed]",
       "text": [
        "<matplotlib.figure.Figure at 0x3ade310>"
       ]
      },
      {
       "metadata": {},
       "output_type": "display_data",
       "png": "[encoded data removed]",
       "text": [
        "<matplotlib.figure.Figure at 0x4597250>"
       ]
      }
     ],
     "prompt_number": 45
    },
    {
     "cell_type": "code",
     "collapsed": false,
     "input": [
      "for size in sizes:\n",
      "    plot_max_error(tess_data, prism_data, size, 'gzz')"
     ],
     "language": "python",
     "metadata": {},
     "outputs": [
      {
       "metadata": {},
       "output_type": "display_data",
       "png": "[encoded data removed]",
       "text": [
        "<matplotlib.figure.Figure at 0x3af9f50>"
       ]
      },
      {
       "metadata": {},
       "output_type": "display_data",
       "png": "[encoded data removed]",
       "text": [
        "<matplotlib.figure.Figure at 0x3ade310>"
       ]
      },
      {
       "metadata": {},
       "output_type": "display_data",
       "png": "[encoded data removed]",
       "text": [
        "<matplotlib.figure.Figure at 0x4597250>"
       ]
      }
     ],
     "prompt_number": 45
    },
    {
     "cell_type": "code",
     "collapsed": false,
     "input": [],
     "language": "python",
     "metadata": {},
     "outputs": []
    }
   ],
   "metadata": {}
  }
 ]
}