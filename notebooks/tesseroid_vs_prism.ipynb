{
 "metadata": {
  "name": "",
  "signature": "sha256:83f545e3809e92009e49ce021ef1227d31de0979adb6e90c955c40931cbe3202"
 },
 "nbformat": 3,
 "nbformat_minor": 0,
 "worksheets": [
  {
   "cells": [
    {
     "cell_type": "code",
     "collapsed": false,
     "input": [
      "%matplotlib inline"
     ],
     "language": "python",
     "metadata": {},
     "outputs": [],
     "prompt_number": 1
    },
    {
     "cell_type": "code",
     "collapsed": false,
     "input": [
      "from os.path import join\n",
      "from pandas import DataFrame\n",
      "import numpy as np\n",
      "from fatiando.mesher import Tesseroid\n",
      "from fatiando import gridder\n",
      "from fatiando.vis import mpl, myv\n",
      "from fatiando.constants import MEAN_EARTH_RADIUS\n",
      "\n",
      "filedir = 'tesseroid_vs_prism_files'"
     ],
     "language": "python",
     "metadata": {},
     "outputs": [],
     "prompt_number": 2
    },
    {
     "cell_type": "code",
     "collapsed": false,
     "input": [
      "def dump_tess(model, outfile):\n",
      "    with open(outfile, 'w') as f:\n",
      "        for t in model:\n",
      "            f.write('{} {} {} {} {} {} {}\\n'.format(\n",
      "                t.w, t.e, t.s, t.n, t.top, t.bottom, t.props['density']))"
     ],
     "language": "python",
     "metadata": {},
     "outputs": [],
     "prompt_number": 3
    },
    {
     "cell_type": "code",
     "collapsed": false,
     "input": [
      "def make_model_files(size):\n",
      "    # Make a tesseroid model\n",
      "    model = Tesseroid(0, size, 0, size, 0, -111000*size, {'density':2670})\n",
      "    tess_file = join(filedir, 'tesseroid-{}.txt'.format(size))\n",
      "    dump_tess([model], tess_file)    \n",
      "    # Split into many\n",
      "    split_file = join(filedir, 'tesseroid-split-{}.txt'.format(size))\n",
      "    n = int(30*size)\n",
      "    if n == 0:\n",
      "        n = 10\n",
      "    dump_tess(model.split(n, n, n), split_file)\n",
      "    # ... and convert them into prisms\n",
      "    prism_file = join(filedir, 'tesseroid-split-prisms-{}.txt'.format(size))\n",
      "    !tess2prism $split_file > $prism_file\n",
      "    # Perfom some sanity checks\n",
      "    mass = !tessmass $tess_file\n",
      "    mass = float(mass[0])\n",
      "    dx, dy, dz, dens = np.loadtxt(prism_file, unpack=True, usecols=range(4))\n",
      "    prism_mass = np.sum(dx*dy*dz*dens)\n",
      "    assert abs(prism_mass - mass)/mass < 1e-10, 'Tesseroid and prism model have different sizes'\n",
      "    return tess_file, prism_file"
     ],
     "language": "python",
     "metadata": {},
     "outputs": [],
     "prompt_number": 133
    },
    {
     "cell_type": "code",
     "collapsed": false,
     "input": [
      "def make_grid_file(size):\n",
      "    # Make many data grids for this size tesseroid\n",
      "    gridsize = 2*size\n",
      "    area = [-gridsize, gridsize, -gridsize, gridsize]\n",
      "    shape = (50, 50)\n",
      "    grdflags = '-r{} -b{}'.format('/'.join(map(str, area)), '/'.join(map(str, shape)))\n",
      "    grid_file = join(filedir, 'grid-{}.txt'.format(size))\n",
      "    !echo > $grid_file\n",
      "    for h in np.linspace(0.05*size*100000, 5*size*100000, 1, endpoint=True):\n",
      "        !tessgrd $grdflags -z$h >> $grid_file\n",
      "    return grid_file"
     ],
     "language": "python",
     "metadata": {},
     "outputs": [],
     "prompt_number": 134
    },
    {
     "cell_type": "code",
     "collapsed": false,
     "input": [
      "def compare(sizes, ratios):\n",
      "    columns = ['lon', 'lat', 'height', 'potential', 'gx', 'gy', 'gz', 'gxx', 'gxy', 'gxz', 'gyy', 'gyz', 'gzz']\n",
      "    prism_data = DataFrame({}, columns=['size'] + columns)\n",
      "    tess_data = DataFrame({}, columns=['ratio', 'size'] + columns)\n",
      "    for size in sizes:\n",
      "        print \"Calculating size {}...\".format(size)\n",
      "        tess_file, prism_file = make_model_files(size)\n",
      "        grid_file = make_grid_file(size)\n",
      "        lon, lat, height = np.loadtxt(grid_file, unpack=True)\n",
      "        assert lon.shape == lat.shape == height.shape\n",
      "        n = lon.size\n",
      "        # Calculate the prism effect\n",
      "        prism_effect_file = join(filedir, 'prism-effect-{}.txt'.format(size))\n",
      "        !cat $grid_file | prismpots $prism_file | prismgs $prism_file | prismggts $prism_file > $prism_effect_file\n",
      "        prism_data = prism_data.append(\n",
      "            DataFrame(np.loadtxt(prism_effect_file), columns=columns).join(\n",
      "                DataFrame(size*np.ones(n), columns=['size'])), \n",
      "            ignore_index=True)\n",
      "        print '  Prism effect done.'\n",
      "        # Calculate the tesseroid effect for varying ratio\n",
      "        for ratio in ratios:\n",
      "            tess_effect_file = join(filedir, 'tess-effect-{}-r{}.txt'.format(size, ratio))\n",
      "            if ratio != 0:\n",
      "                flags = ' '.join([tess_file, '-t{}'.format(ratio)])\n",
      "            else:\n",
      "                flags = ' '.join([tess_file, '-a'])\n",
      "            #!cat $grid_file | tesspot $flags | tessgx $flags | tessgy $flags | tessgz $flags | tessgxx $flags | tessgxy $flags | \\\n",
      "            #    tessgxz $flags | tessgyy $flags | tessgyz $flags | tessgzz $flags > $tess_effect_file\n",
      "            tess_data = tess_data.append(\n",
      "                DataFrame(np.loadtxt(tess_effect_file), columns=columns).join(\n",
      "                    DataFrame({'ratio': ratio*np.ones(n), 'size': size*np.ones(n)})),\n",
      "                ignore_index=True)\n",
      "            print '  Ratio {} done.'.format(ratio)\n",
      "    print 'Done'\n",
      "    return prism_data, tess_data"
     ],
     "language": "python",
     "metadata": {},
     "outputs": [],
     "prompt_number": 135
    },
    {
     "cell_type": "code",
     "collapsed": false,
     "input": [
      "sizes = [0.01, 0.1, 1, 2]\n",
      "sizes = [2]"
     ],
     "language": "python",
     "metadata": {},
     "outputs": [],
     "prompt_number": 136
    },
    {
     "cell_type": "code",
     "collapsed": false,
     "input": [
      "prism_data, tess_data = compare(sizes, ratios=range(15))"
     ],
     "language": "python",
     "metadata": {},
     "outputs": [
      {
       "output_type": "stream",
       "stream": "stdout",
       "text": [
        "Calculating size 2...\n"
       ]
      }
     ]
    },
    {
     "cell_type": "code",
     "collapsed": false,
     "input": [
      "prism_data.shape"
     ],
     "language": "python",
     "metadata": {},
     "outputs": [
      {
       "metadata": {},
       "output_type": "pyout",
       "prompt_number": 122,
       "text": [
        "(10000, 14)"
       ]
      }
     ],
     "prompt_number": 122
    },
    {
     "cell_type": "code",
     "collapsed": false,
     "input": [
      "tess_data.shape"
     ],
     "language": "python",
     "metadata": {},
     "outputs": [
      {
       "metadata": {},
       "output_type": "pyout",
       "prompt_number": 123,
       "text": [
        "(150000, 15)"
       ]
      }
     ],
     "prompt_number": 123
    },
    {
     "cell_type": "code",
     "collapsed": false,
     "input": [
      "prism_data.to_csv(join(filedir, 'prism_data.csv'), index=False)\n",
      "tess_data.to_csv(join(filedir, 'tesseroid_data.csv'), index=False)"
     ],
     "language": "python",
     "metadata": {},
     "outputs": [],
     "prompt_number": 47
    },
    {
     "cell_type": "code",
     "collapsed": false,
     "input": [
      "def plot_max_error(tess, prism, size, field, relative=False):\n",
      "    tmp = tess[tess.size == size]\n",
      "    x = tmp.ratio.unique()\n",
      "    y = np.empty_like(x)\n",
      "    for i, ratio in enumerate(x):\n",
      "        diff = np.abs(tmp[tmp.ratio == ratio][field].as_matrix() - prism[prism.size == size][field].as_matrix())\n",
      "        if relative:\n",
      "            diff /= np.abs(prism[prism.size == size][field].as_matrix())\n",
      "            diff *= 100\n",
      "        y[i] = diff.max()\n",
      "    units = dict(potential=r'$m^2.s^{-2}$', gx='mGal', gy='mGal', gz='mGal', \n",
      "                 gxx='Eotvos', gxy='Eotvos', gxz='Eotvos', gyy='Eotvos', gyz='Eotvos', gzz='Eotvos')\n",
      "    mpl.figure()\n",
      "    mpl.title('{}: size {}'.format(field, size))\n",
      "    mpl.plot(x, y, '-')\n",
      "    ax = mpl.gca()\n",
      "    ax.set_yscale('log')\n",
      "    mpl.grid(True)\n",
      "    mpl.xlabel('distance/size ratio')\n",
      "    mpl.ylabel('difference ({})'.format('%' if relative else units[field]))"
     ],
     "language": "python",
     "metadata": {},
     "outputs": [],
     "prompt_number": 55
    },
    {
     "cell_type": "code",
     "collapsed": false,
     "input": [
      "for size in sizes:\n",
      "    plot_max_error(tess_data, prism_data, size, 'gz', relative=True)"
     ],
     "language": "python",
     "metadata": {},
     "outputs": []
    },
    {
     "cell_type": "code",
     "collapsed": false,
     "input": [
      "def plot_max_error_per_height(tess, prism, size, field, relative=False):\n",
      "    tmp = tess[tess.size == size]\n",
      "    x = tmp.ratio.unique()\n",
      "    y = np.empty_like(x)\n",
      "    for i, ratio in enumerate(x):\n",
      "        diff = np.abs(tmp[tmp.ratio == ratio][field].as_matrix() - prism[prism.size == size][field].as_matrix())\n",
      "        if relative:\n",
      "            diff /= np.abs(prism[prism.size == size][field].as_matrix())\n",
      "            diff *= 100\n",
      "        y[i] = diff.max()\n",
      "    units = dict(potential=r'$m^2.s^{-2}$', gx='mGal', gy='mGal', gz='mGal', \n",
      "                 gxx='Eotvos', gxy='Eotvos', gxz='Eotvos', gyy='Eotvos', gyz='Eotvos', gzz='Eotvos')\n",
      "    mpl.figure()\n",
      "    mpl.title('{}: size {}'.format(field, size))\n",
      "    mpl.plot(x, y, '-')\n",
      "    ax = mpl.gca()\n",
      "    ax.set_yscale('log')\n",
      "    mpl.grid(True)\n",
      "    mpl.xlabel('distance/size ratio')\n",
      "    mpl.ylabel('difference ({})'.format('%' if relative else units[field]))"
     ],
     "language": "python",
     "metadata": {},
     "outputs": []
    },
    {
     "cell_type": "code",
     "collapsed": false,
     "input": [
      "def distance(lon, lat, height, size):\n",
      "    tess_file = join(filedir, 'tesseroid-{}.txt'.format(size))\n",
      "    tesseroid = np.loadtxt(tess_file)\n",
      "    \n",
      "\n",
      "def plot_error_per_distance(tess, prism, size, field, ratio, relative):\n",
      "    tdata = tess[(tess.size == size) & (tess.ratio == ratio)]\n",
      "    pdata = prism[prism.size == size]\n",
      "    lon, lat, height = tdata.lon, tdata.lat, tdata.height\n",
      "    "
     ],
     "language": "python",
     "metadata": {},
     "outputs": []
    },
    {
     "cell_type": "code",
     "collapsed": false,
     "input": [
      "def get_data(data):\n",
      "    data = data[data.size == 2]\n",
      "    data = data[data.height == data.height.unique()[0]]\n",
      "    return data\n",
      "\n",
      "pdata = get_data(prism_data)\n",
      "tdata = get_data(tess_data)\n",
      "tdata = tdata[tdata.ratio == 5]\n",
      "\n",
      "lon, lat = tdata.lon, tdata.lat\n",
      "mpl.contourf(lon, lat, tdata.gz.as_matrix() - pdata.gz.as_matrix(), (50, 50), 50)\n",
      "mpl.colorbar()\n",
      "#mpl.plot(lon, lat, '.k')"
     ],
     "language": "python",
     "metadata": {},
     "outputs": [
      {
       "metadata": {},
       "output_type": "pyout",
       "prompt_number": 131,
       "text": [
        "<matplotlib.colorbar.Colorbar instance at 0xec4c4d0>"
       ]
      },
      {
       "metadata": {},
       "output_type": "display_data",
       "png": "[encoded data removed]",
       "text": [
        "<matplotlib.figure.Figure at 0x15ba4550>"
       ]
      }
     ],
     "prompt_number": 131
    },
    {
     "cell_type": "code",
     "collapsed": false,
     "input": [],
     "language": "python",
     "metadata": {},
     "outputs": []
    }
   ],
   "metadata": {}
  }
 ]
}