{
 "metadata": {
  "name": "",
  "signature": "sha256:8ddd8826a03b1efa174df567ee6fd99ee5fd9d493df27d0fd7682a5aa892a94c"
 },
 "nbformat": 3,
 "nbformat_minor": 0,
 "worksheets": [
  {
   "cells": [
    {
     "cell_type": "code",
     "collapsed": false,
     "input": [
      "%matplotlib inline"
     ],
     "language": "python",
     "metadata": {},
     "outputs": [],
     "prompt_number": 1
    },
    {
     "cell_type": "code",
     "collapsed": false,
     "input": [
      "from os.path import join\n",
      "import numpy as np\n",
      "from fatiando.mesher import Tesseroid\n",
      "from fatiando import gridder\n",
      "from fatiando.vis import mpl, myv\n",
      "from fatiando.constants import MEAN_EARTH_RADIUS\n",
      "\n",
      "filedir = 'tesseroid_vs_prism_files'"
     ],
     "language": "python",
     "metadata": {},
     "outputs": [],
     "prompt_number": 2
    },
    {
     "cell_type": "code",
     "collapsed": false,
     "input": [
      "def dump_tess(model, outfile):\n",
      "    with open(outfile, 'w') as f:\n",
      "        for t in model:\n",
      "            f.write('{} {} {} {} {} {} {}\\n'.format(\n",
      "                t.w, t.e, t.s, t.n, t.top, t.bottom, t.props['density']))"
     ],
     "language": "python",
     "metadata": {},
     "outputs": [],
     "prompt_number": 3
    },
    {
     "cell_type": "code",
     "collapsed": false,
     "input": [
      "model = Tesseroid(0, 10, 0, 10, 0, -1000000, {'density':2670})\n",
      "tess_file = join(filedir, 'tesseroid.txt')\n",
      "dump_tess([model], tess_file)"
     ],
     "language": "python",
     "metadata": {},
     "outputs": [],
     "prompt_number": 124
    },
    {
     "cell_type": "code",
     "collapsed": false,
     "input": [
      "split_file = join(filedir, 'tesseroid-split.txt')\n",
      "dump_tess(model.split(20, 20, 20), split_file)"
     ],
     "language": "python",
     "metadata": {},
     "outputs": [],
     "prompt_number": 125
    },
    {
     "cell_type": "code",
     "collapsed": false,
     "input": [
      "prism_file = join(filedir, 'tesseroid-split-prisms.txt')\n",
      "!tess2prism $split_file > $prism_file"
     ],
     "language": "python",
     "metadata": {},
     "outputs": [],
     "prompt_number": 126
    },
    {
     "cell_type": "code",
     "collapsed": false,
     "input": [
      "mass = !tessmass $tess_file\n",
      "mass = float(mass[0])\n",
      "mass"
     ],
     "language": "python",
     "metadata": {},
     "outputs": [
      {
       "metadata": {},
       "output_type": "pyout",
       "prompt_number": 127,
       "text": [
        "2.80275045861252e+21"
       ]
      }
     ],
     "prompt_number": 127
    },
    {
     "cell_type": "code",
     "collapsed": false,
     "input": [
      "dx, dy, dz, dens = np.loadtxt(prism_file, unpack=True, usecols=range(4))\n",
      "prism_mass = np.sum(dx*dy*dz*dens)\n",
      "prism_mass"
     ],
     "language": "python",
     "metadata": {},
     "outputs": [
      {
       "metadata": {},
       "output_type": "pyout",
       "prompt_number": 128,
       "text": [
        "2.8027504586125156e+21"
       ]
      }
     ],
     "prompt_number": 128
    },
    {
     "cell_type": "code",
     "collapsed": false,
     "input": [
      "(prism_mass - mass)/mass"
     ],
     "language": "python",
     "metadata": {},
     "outputs": [
      {
       "metadata": {},
       "output_type": "pyout",
       "prompt_number": 129,
       "text": [
        "-1.4964956966152307e-15"
       ]
      }
     ],
     "prompt_number": 129
    },
    {
     "cell_type": "code",
     "collapsed": false,
     "input": [
      "area = [-30, 30, -30, 30]\n",
      "shape = (20, 20)\n",
      "grdflags = '-r{} -b{}'.format('/'.join(map(str, area)), '/'.join(map(str, shape)))\n",
      "grid_file = join(filedir, 'grid.txt')\n",
      "!echo > $grid_file\n",
      "for h in np.linspace(1000, 500000, 10):\n",
      "    !tessgrd $grdflags -z$h >> $grid_file    \n",
      "lon, lat, height = np.loadtxt(grid_file, unpack=True)"
     ],
     "language": "python",
     "metadata": {},
     "outputs": [],
     "prompt_number": 130
    },
    {
     "cell_type": "code",
     "collapsed": false,
     "input": [
      "prism_effect_file = join(filedir, 'prism-effect.txt')\n",
      "!prismggts $prism_file < $grid_file > $prism_effect_file"
     ],
     "language": "python",
     "metadata": {},
     "outputs": [],
     "prompt_number": 131
    },
    {
     "cell_type": "code",
     "collapsed": false,
     "input": [
      "tess_effect_file = join(filedir, 'tess-effect.txt')"
     ],
     "language": "python",
     "metadata": {},
     "outputs": [],
     "prompt_number": 132
    },
    {
     "cell_type": "code",
     "collapsed": false,
     "input": [
      "flags = ' '.join([tess_file, '-t2'])"
     ],
     "language": "python",
     "metadata": {},
     "outputs": [],
     "prompt_number": 209
    },
    {
     "cell_type": "code",
     "collapsed": false,
     "input": [
      "!cat $grid_file | tessgxx $flags | tessgxy $flags | tessgxz $flags | tessgyy $flags | \\\n",
      "tessgyz $flags | tessgzz $flags > $tess_effect_file"
     ],
     "language": "python",
     "metadata": {},
     "outputs": [],
     "prompt_number": 210
    },
    {
     "cell_type": "code",
     "collapsed": false,
     "input": [
      "prism_tensor = np.loadtxt(prism_effect_file, usecols=range(3, 9))\n",
      "tess_tensor = np.loadtxt(tess_effect_file, usecols=range(3, 9))"
     ],
     "language": "python",
     "metadata": {},
     "outputs": [],
     "prompt_number": 211
    },
    {
     "cell_type": "code",
     "collapsed": false,
     "input": [
      "def distance_to(tesseroid, lon, lat, height):\n",
      "    d2r = np.pi/180.\n",
      "    w, e, s, n, top, bottom = tesseroid.get_bounds()\n",
      "    tes_radius = top + MEAN_EARTH_RADIUS\n",
      "    tes_lat = d2r*0.5*(s + n)\n",
      "    tes_lon = d2r*0.5*(w + e)\n",
      "    radius = height + MEAN_EARTH_RADIUS\n",
      "    lon = d2r*lon\n",
      "    lat = d2r*lat\n",
      "    distance = np.sqrt(\n",
      "        radius**2 + tes_radius**2 - 2*radius*tes_radius*(\n",
      "            np.sin(lat)*np.sin(tes_lat) + np.cos(lat)*np.cos(tes_lat)*np.cos(lon - tes_lon)))\n",
      "    return distance"
     ],
     "language": "python",
     "metadata": {},
     "outputs": [],
     "prompt_number": 212
    },
    {
     "cell_type": "code",
     "collapsed": false,
     "input": [
      "diff = np.abs(tess_tensor - prism_tensor)\n",
      "distance = distance_to(model, lon, lat, height)\n",
      "d2r = np.pi/180.\n",
      "size = max([MEAN_EARTH_RADIUS*d2r*(model.e - model.w), MEAN_EARTH_RADIUS*d2r*(model.n - model.s), model.top - model.bottom])\n",
      "print size"
     ],
     "language": "python",
     "metadata": {},
     "outputs": [
      {
       "output_type": "stream",
       "stream": "stdout",
       "text": [
        "1113194.90793\n"
       ]
      }
     ],
     "prompt_number": 213
    },
    {
     "cell_type": "code",
     "collapsed": false,
     "input": [
      "diffzz = diff[:, -1]#/np.abs(tess_tensor[:, -1])"
     ],
     "language": "python",
     "metadata": {},
     "outputs": [],
     "prompt_number": 214
    },
    {
     "cell_type": "code",
     "collapsed": false,
     "input": [
      "mpl.figure()\n",
      "mpl.plot(distance/size, diffzz, '.k')\n",
      "ax = mpl.gca()\n",
      "ax.set_yscale('log')\n",
      "#ax.set_xticks(range(5))\n",
      "mpl.grid(True)"
     ],
     "language": "python",
     "metadata": {},
     "outputs": [
      {
       "metadata": {},
       "output_type": "display_data",
       "png": "[encoded data removed]",
       "text": [
        "<matplotlib.figure.Figure at 0x59dea10>"
       ]
      }
     ],
     "prompt_number": 215
    },
    {
     "cell_type": "code",
     "collapsed": false,
     "input": [
      "np.ptp(tess_tensor[:,-1]), np.ptp(diff[:,-1])"
     ],
     "language": "python",
     "metadata": {},
     "outputs": [
      {
       "metadata": {},
       "output_type": "pyout",
       "prompt_number": 217,
       "text": [
        "(1090.4029771766454, 8.3679811462635723)"
       ]
      }
     ],
     "prompt_number": 217
    },
    {
     "cell_type": "code",
     "collapsed": false,
     "input": [],
     "language": "python",
     "metadata": {},
     "outputs": []
    }
   ],
   "metadata": {}
  }
 ]
}