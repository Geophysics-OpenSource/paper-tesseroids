{
 "metadata": {
  "name": "",
  "signature": "sha256:ad1f2a1810125f1f44da1c3f7f1a78bbbb52c56c74486672f362a8dc456765f7"
 },
 "nbformat": 3,
 "nbformat_minor": 0,
 "worksheets": [
  {
   "cells": [
    {
     "cell_type": "code",
     "collapsed": false,
     "input": [
      "%matplotlib inline"
     ],
     "language": "python",
     "metadata": {},
     "outputs": [],
     "prompt_number": 1
    },
    {
     "cell_type": "code",
     "collapsed": false,
     "input": [
      "from os.path import join\n",
      "from pandas import DataFrame\n",
      "import numpy as np\n",
      "from fatiando.mesher import Tesseroid\n",
      "from fatiando import gridder\n",
      "from fatiando.vis import mpl, myv\n",
      "from fatiando.constants import MEAN_EARTH_RADIUS\n",
      "\n",
      "filedir = 'tesseroid_vs_prism_files'"
     ],
     "language": "python",
     "metadata": {},
     "outputs": [],
     "prompt_number": 334
    },
    {
     "cell_type": "code",
     "collapsed": false,
     "input": [
      "def dump_tess(model, outfile):\n",
      "    with open(outfile, 'w') as f:\n",
      "        for t in model:\n",
      "            f.write('{} {} {} {} {} {} {}\\n'.format(\n",
      "                t.w, t.e, t.s, t.n, t.top, t.bottom, t.props['density']))"
     ],
     "language": "python",
     "metadata": {},
     "outputs": [],
     "prompt_number": 3
    },
    {
     "cell_type": "code",
     "collapsed": false,
     "input": [
      "def make_model_files(size):\n",
      "    # Make a tesseroid model\n",
      "    model = Tesseroid(0, size, 0, size, 0, -111000*size, {'density':2670})\n",
      "    tess_file = join(filedir, 'tesseroid-{}.txt'.format(size))\n",
      "    dump_tess([model], tess_file)    \n",
      "    # Split into many\n",
      "    split_file = join(filedir, 'tesseroid-split-{}.txt'.format(size))\n",
      "    dump_tess(model.split(5, 5, 5), split_file)\n",
      "    # ... and convert them into prisms\n",
      "    prism_file = join(filedir, 'tesseroid-split-prisms-{}.txt'.format(size))\n",
      "    !tess2prism $split_file > $prism_file\n",
      "    # Perfom some sanity checks\n",
      "    mass = !tessmass $tess_file\n",
      "    mass = float(mass[0])\n",
      "    dx, dy, dz, dens = np.loadtxt(prism_file, unpack=True, usecols=range(4))\n",
      "    prism_mass = np.sum(dx*dy*dz*dens)\n",
      "    assert abs(prism_mass - mass)/mass < 1e-10, 'Tesseroid and prism model have different sizes'\n",
      "    return tess_file, prism_file"
     ],
     "language": "python",
     "metadata": {},
     "outputs": [],
     "prompt_number": 341
    },
    {
     "cell_type": "code",
     "collapsed": false,
     "input": [
      "def make_grid_file(size):\n",
      "    # Make many data grids for this size tesseroid\n",
      "    gridsize = 2*size\n",
      "    area = [-gridsize, gridsize, -gridsize, gridsize]\n",
      "    shape = (5, 5)\n",
      "    grdflags = '-r{} -b{}'.format('/'.join(map(str, area)), '/'.join(map(str, shape)))\n",
      "    grid_file = join(filedir, 'grid-{}.txt'.format(size))\n",
      "    !echo > $grid_file\n",
      "    for h in np.linspace(1000, 5*size*100000, 3, endpoint=True):\n",
      "        !tessgrd $grdflags -z$h >> $grid_file\n",
      "    return grid_file"
     ],
     "language": "python",
     "metadata": {},
     "outputs": [],
     "prompt_number": 342
    },
    {
     "cell_type": "code",
     "collapsed": false,
     "input": [
      "def compare(sizes, ratios):\n",
      "    columns = ['lon', 'lat', 'height', 'pot', 'gx', 'gy', 'gz', 'gxx', 'gxy', 'gxz', 'gyy', 'gyz', 'gzz']\n",
      "    prism_data = DataFrame({}, columns=['size'] + columns)\n",
      "    tess_data = DataFrame({}, columns=['ratio', 'size'] + columns)\n",
      "    for size in sizes:\n",
      "        print \"Calculating size {}...\".format(size)\n",
      "        tess_file, prism_file = make_model_files(size)\n",
      "        grid_file = make_grid_file(size)\n",
      "        lon, lat, height = np.loadtxt(grid_file, unpack=True)\n",
      "        assert lon.shape == lat.shape == height.shape\n",
      "        n = lon.size\n",
      "        # Calculate the prism effect\n",
      "        prism_effect_file = join(filedir, 'prism-effect-{}.txt'.format(size))\n",
      "        !cat $grid_file | prismpots $prism_file | prismgs $prism_file | prismggts $prism_file > $prism_effect_file\n",
      "        prism_data = prism_data.append(\n",
      "            DataFrame(np.loadtxt(prism_effect_file), columns=columns).join(\n",
      "                DataFrame(size*np.ones(n), columns=['size'])), \n",
      "            ignore_index=True)\n",
      "        # Calculate the tesseroid effect for varying ratio\n",
      "        for ratio in ratios:\n",
      "            tess_effect_file = join(filedir, 'tess-effect-{}-r{}.txt'.format(size, ratio))\n",
      "            flags = ' '.join([tess_file, '-t{}'.format(ratio)])\n",
      "            !cat $grid_file | tesspot $flags | tessgx $flags | tessgy $flags | tessgz $flags | tessgxx $flags | tessgxy $flags | \\\n",
      "                tessgxz $flags | tessgyy $flags | tessgyz $flags | tessgzz $flags > $tess_effect_file\n",
      "            tess_data = tess_data.append(\n",
      "                DataFrame(np.loadtxt(tess_effect_file), columns=columns).join(\n",
      "                    DataFrame({'ratio': ratio*np.ones(n), 'size': size*np.ones(n)})),\n",
      "                ignore_index=True)\n",
      "            print '  Ratio {} done.'.format(ratio)\n",
      "    print 'Done'\n",
      "    return prism_data, tess_data"
     ],
     "language": "python",
     "metadata": {},
     "outputs": [],
     "prompt_number": 367
    },
    {
     "cell_type": "code",
     "collapsed": false,
     "input": [
      "prism_data, tess_data = compare([0.1, 1], ratios=range(1, 11))"
     ],
     "language": "python",
     "metadata": {},
     "outputs": [
      {
       "output_type": "stream",
       "stream": "stdout",
       "text": [
        "Calculating size 0.1...\n"
       ]
      },
      {
       "output_type": "stream",
       "stream": "stdout",
       "text": [
        "  Ratio 1 done.\n"
       ]
      },
      {
       "output_type": "stream",
       "stream": "stdout",
       "text": [
        "  Ratio 2 done.\n"
       ]
      },
      {
       "output_type": "stream",
       "stream": "stdout",
       "text": [
        "  Ratio 3 done.\n"
       ]
      },
      {
       "output_type": "stream",
       "stream": "stdout",
       "text": [
        "  Ratio 4 done.\n"
       ]
      },
      {
       "output_type": "stream",
       "stream": "stdout",
       "text": [
        "  Ratio 5 done.\n"
       ]
      },
      {
       "output_type": "stream",
       "stream": "stdout",
       "text": [
        "  Ratio 6 done.\n"
       ]
      },
      {
       "output_type": "stream",
       "stream": "stdout",
       "text": [
        "  Ratio 7 done.\n"
       ]
      },
      {
       "output_type": "stream",
       "stream": "stdout",
       "text": [
        "  Ratio 8 done.\n"
       ]
      },
      {
       "output_type": "stream",
       "stream": "stdout",
       "text": [
        "  Ratio 9 done.\n",
        "Calculating size 1...\n"
       ]
      },
      {
       "output_type": "stream",
       "stream": "stdout",
       "text": [
        "  Ratio 1 done.\n"
       ]
      },
      {
       "output_type": "stream",
       "stream": "stdout",
       "text": [
        "  Ratio 2 done.\n"
       ]
      },
      {
       "output_type": "stream",
       "stream": "stdout",
       "text": [
        "  Ratio 3 done.\n"
       ]
      },
      {
       "output_type": "stream",
       "stream": "stdout",
       "text": [
        "  Ratio 4 done.\n"
       ]
      },
      {
       "output_type": "stream",
       "stream": "stdout",
       "text": [
        "  Ratio 5 done.\n"
       ]
      },
      {
       "output_type": "stream",
       "stream": "stdout",
       "text": [
        "  Ratio 6 done.\n"
       ]
      },
      {
       "output_type": "stream",
       "stream": "stdout",
       "text": [
        "  Ratio 7 done.\n"
       ]
      },
      {
       "output_type": "stream",
       "stream": "stdout",
       "text": [
        "  Ratio 8 done.\n"
       ]
      },
      {
       "output_type": "stream",
       "stream": "stdout",
       "text": [
        "  Ratio 9 done.\n",
        "Done\n"
       ]
      }
     ],
     "prompt_number": 373
    },
    {
     "cell_type": "code",
     "collapsed": false,
     "input": [
      "prism_data.shape"
     ],
     "language": "python",
     "metadata": {},
     "outputs": [
      {
       "metadata": {},
       "output_type": "pyout",
       "prompt_number": 371,
       "text": [
        "(150, 14)"
       ]
      }
     ],
     "prompt_number": 371
    },
    {
     "cell_type": "code",
     "collapsed": false,
     "input": [
      "tess_data.shape"
     ],
     "language": "python",
     "metadata": {},
     "outputs": [
      {
       "metadata": {},
       "output_type": "pyout",
       "prompt_number": 372,
       "text": [
        "(300, 15)"
       ]
      }
     ],
     "prompt_number": 372
    },
    {
     "cell_type": "code",
     "collapsed": false,
     "input": [
      "tess_data[tess_data.size == 1].gz"
     ],
     "language": "python",
     "metadata": {},
     "outputs": [
      {
       "metadata": {},
       "output_type": "pyout",
       "prompt_number": 381,
       "text": [
        "675    26.52719\n",
        "676    43.94464\n",
        "677    62.63654\n",
        "678    62.63654\n",
        "679    43.94464\n",
        "680    43.94268\n",
        "681     102.952\n",
        "682    221.6785\n",
        "683    221.6785\n",
        "684     102.952\n",
        "685    62.63686\n",
        "686    221.6795\n",
        "687    1893.116\n",
        "688    1893.116\n",
        "689    221.6795\n",
        "...\n",
        "1335    54.58635\n",
        "1336    67.30226\n",
        "1337    75.70266\n",
        "1338    75.70266\n",
        "1339    67.30226\n",
        "1340    54.58884\n",
        "1341    67.30351\n",
        "1342    75.70278\n",
        "1343    75.70278\n",
        "1344    67.30351\n",
        "1345    49.69403\n",
        "1346    60.38018\n",
        "1347    67.30246\n",
        "1348    67.30246\n",
        "1349    60.38018\n",
        "Name: gz, Length: 675, dtype: object"
       ]
      }
     ],
     "prompt_number": 381
    },
    {
     "cell_type": "code",
     "collapsed": false,
     "input": [
      "def plot(tess, prism, size, field, relative=False):\n",
      "    tmp = tess[tess.size == size]\n",
      "    x = tmp.ratio\n",
      "    y = np.abs(tmp[field] - prism[prism.size == size][field])\n",
      "    if relative:\n",
      "        y /= np.abs(prism[prism.size == size][field])\n",
      "        y *= 100\n",
      "    print x, y, prism[prism.size == size][field], tmp[field]\n",
      "    mpl.figure()\n",
      "    mpl.plot(x, y, '.k')\n",
      "    ax = mpl.gca()\n",
      "    ax.set_yscale('log')\n",
      "    mpl.grid(True)"
     ],
     "language": "python",
     "metadata": {},
     "outputs": [],
     "prompt_number": 390
    },
    {
     "cell_type": "code",
     "collapsed": false,
     "input": [
      "plot(tess_data, prism_data, 0.1, 'gz')"
     ],
     "language": "python",
     "metadata": {},
     "outputs": [
      {
       "ename": "ValueError",
       "evalue": "operands could not be broadcast together with shapes (675,) (600,) ",
       "output_type": "pyerr",
       "traceback": [
        "\u001b[1;31m---------------------------------------------------------------------------\u001b[0m\n\u001b[1;31mValueError\u001b[0m                                Traceback (most recent call last)",
        "\u001b[1;32m<ipython-input-391-37b9d3dd7901>\u001b[0m in \u001b[0;36m<module>\u001b[1;34m()\u001b[0m\n\u001b[1;32m----> 1\u001b[1;33m \u001b[0mplot\u001b[0m\u001b[1;33m(\u001b[0m\u001b[0mtess_data\u001b[0m\u001b[1;33m,\u001b[0m \u001b[0mprism_data\u001b[0m\u001b[1;33m,\u001b[0m \u001b[1;36m0.1\u001b[0m\u001b[1;33m,\u001b[0m \u001b[1;34m'gz'\u001b[0m\u001b[1;33m)\u001b[0m\u001b[1;33m\u001b[0m\u001b[0m\n\u001b[0m",
        "\u001b[1;32m<ipython-input-390-174a470780cf>\u001b[0m in \u001b[0;36mplot\u001b[1;34m(tess, prism, size, field, relative)\u001b[0m\n\u001b[0;32m      2\u001b[0m     \u001b[0mtmp\u001b[0m \u001b[1;33m=\u001b[0m \u001b[0mtess\u001b[0m\u001b[1;33m[\u001b[0m\u001b[0mtess\u001b[0m\u001b[1;33m.\u001b[0m\u001b[0msize\u001b[0m \u001b[1;33m==\u001b[0m \u001b[0msize\u001b[0m\u001b[1;33m]\u001b[0m\u001b[1;33m\u001b[0m\u001b[0m\n\u001b[0;32m      3\u001b[0m     \u001b[0mx\u001b[0m \u001b[1;33m=\u001b[0m \u001b[0mtmp\u001b[0m\u001b[1;33m.\u001b[0m\u001b[0mratio\u001b[0m\u001b[1;33m\u001b[0m\u001b[0m\n\u001b[1;32m----> 4\u001b[1;33m     \u001b[0my\u001b[0m \u001b[1;33m=\u001b[0m \u001b[0mnp\u001b[0m\u001b[1;33m.\u001b[0m\u001b[0mabs\u001b[0m\u001b[1;33m(\u001b[0m\u001b[0mtmp\u001b[0m\u001b[1;33m[\u001b[0m\u001b[0mfield\u001b[0m\u001b[1;33m]\u001b[0m \u001b[1;33m-\u001b[0m \u001b[0mnp\u001b[0m\u001b[1;33m.\u001b[0m\u001b[0marray\u001b[0m\u001b[1;33m(\u001b[0m\u001b[0mprism\u001b[0m\u001b[1;33m[\u001b[0m\u001b[0mprism\u001b[0m\u001b[1;33m.\u001b[0m\u001b[0msize\u001b[0m \u001b[1;33m==\u001b[0m \u001b[0msize\u001b[0m\u001b[1;33m]\u001b[0m\u001b[1;33m[\u001b[0m\u001b[0mfield\u001b[0m\u001b[1;33m]\u001b[0m\u001b[1;33m.\u001b[0m\u001b[0mdata\u001b[0m\u001b[1;33m)\u001b[0m\u001b[1;33m)\u001b[0m\u001b[1;33m\u001b[0m\u001b[0m\n\u001b[0m\u001b[0;32m      5\u001b[0m     \u001b[1;32mif\u001b[0m \u001b[0mrelative\u001b[0m\u001b[1;33m:\u001b[0m\u001b[1;33m\u001b[0m\u001b[0m\n\u001b[0;32m      6\u001b[0m         \u001b[0my\u001b[0m \u001b[1;33m/=\u001b[0m \u001b[0mnp\u001b[0m\u001b[1;33m.\u001b[0m\u001b[0mabs\u001b[0m\u001b[1;33m(\u001b[0m\u001b[0mprism\u001b[0m\u001b[1;33m[\u001b[0m\u001b[0mprism\u001b[0m\u001b[1;33m.\u001b[0m\u001b[0msize\u001b[0m \u001b[1;33m==\u001b[0m \u001b[0msize\u001b[0m\u001b[1;33m]\u001b[0m\u001b[1;33m[\u001b[0m\u001b[0mfield\u001b[0m\u001b[1;33m]\u001b[0m\u001b[1;33m)\u001b[0m\u001b[1;33m\u001b[0m\u001b[0m\n",
        "\u001b[1;32m/home/leo/bin/anaconda/lib/python2.7/site-packages/pandas/core/ops.pyc\u001b[0m in \u001b[0;36mwrapper\u001b[1;34m(left, right, name)\u001b[0m\n\u001b[0;32m    502\u001b[0m             \u001b[1;32mif\u001b[0m \u001b[0mhasattr\u001b[0m\u001b[1;33m(\u001b[0m\u001b[0mlvalues\u001b[0m\u001b[1;33m,\u001b[0m \u001b[1;34m'values'\u001b[0m\u001b[1;33m)\u001b[0m\u001b[1;33m:\u001b[0m\u001b[1;33m\u001b[0m\u001b[0m\n\u001b[0;32m    503\u001b[0m                 \u001b[0mlvalues\u001b[0m \u001b[1;33m=\u001b[0m \u001b[0mlvalues\u001b[0m\u001b[1;33m.\u001b[0m\u001b[0mvalues\u001b[0m\u001b[1;33m\u001b[0m\u001b[0m\n\u001b[1;32m--> 504\u001b[1;33m             return left._constructor(wrap_results(na_op(lvalues, rvalues)),\n\u001b[0m\u001b[0;32m    505\u001b[0m                                      \u001b[0mindex\u001b[0m\u001b[1;33m=\u001b[0m\u001b[0mleft\u001b[0m\u001b[1;33m.\u001b[0m\u001b[0mindex\u001b[0m\u001b[1;33m,\u001b[0m \u001b[0mname\u001b[0m\u001b[1;33m=\u001b[0m\u001b[0mleft\u001b[0m\u001b[1;33m.\u001b[0m\u001b[0mname\u001b[0m\u001b[1;33m,\u001b[0m\u001b[1;33m\u001b[0m\u001b[0m\n\u001b[0;32m    506\u001b[0m                                      dtype=dtype)\n",
        "\u001b[1;32m/home/leo/bin/anaconda/lib/python2.7/site-packages/pandas/core/ops.pyc\u001b[0m in \u001b[0;36mna_op\u001b[1;34m(x, y)\u001b[0m\n\u001b[0;32m    441\u001b[0m         \u001b[1;32mtry\u001b[0m\u001b[1;33m:\u001b[0m\u001b[1;33m\u001b[0m\u001b[0m\n\u001b[0;32m    442\u001b[0m             result = expressions.evaluate(op, str_rep, x, y,\n\u001b[1;32m--> 443\u001b[1;33m                                           raise_on_error=True, **eval_kwargs)\n\u001b[0m\u001b[0;32m    444\u001b[0m         \u001b[1;32mexcept\u001b[0m \u001b[0mTypeError\u001b[0m\u001b[1;33m:\u001b[0m\u001b[1;33m\u001b[0m\u001b[0m\n\u001b[0;32m    445\u001b[0m             \u001b[1;32mif\u001b[0m \u001b[0misinstance\u001b[0m\u001b[1;33m(\u001b[0m\u001b[0my\u001b[0m\u001b[1;33m,\u001b[0m \u001b[1;33m(\u001b[0m\u001b[0mpa\u001b[0m\u001b[1;33m.\u001b[0m\u001b[0mArray\u001b[0m\u001b[1;33m,\u001b[0m \u001b[0mpd\u001b[0m\u001b[1;33m.\u001b[0m\u001b[0mSeries\u001b[0m\u001b[1;33m)\u001b[0m\u001b[1;33m)\u001b[0m\u001b[1;33m:\u001b[0m\u001b[1;33m\u001b[0m\u001b[0m\n",
        "\u001b[1;32m/home/leo/bin/anaconda/lib/python2.7/site-packages/pandas/computation/expressions.pyc\u001b[0m in \u001b[0;36mevaluate\u001b[1;34m(op, op_str, a, b, raise_on_error, use_numexpr, **eval_kwargs)\u001b[0m\n\u001b[0;32m    174\u001b[0m     \u001b[1;32mif\u001b[0m \u001b[0muse_numexpr\u001b[0m\u001b[1;33m:\u001b[0m\u001b[1;33m\u001b[0m\u001b[0m\n\u001b[0;32m    175\u001b[0m         return _evaluate(op, op_str, a, b, raise_on_error=raise_on_error,\n\u001b[1;32m--> 176\u001b[1;33m                          **eval_kwargs)\n\u001b[0m\u001b[0;32m    177\u001b[0m     \u001b[1;32mreturn\u001b[0m \u001b[0m_evaluate_standard\u001b[0m\u001b[1;33m(\u001b[0m\u001b[0mop\u001b[0m\u001b[1;33m,\u001b[0m \u001b[0mop_str\u001b[0m\u001b[1;33m,\u001b[0m \u001b[0ma\u001b[0m\u001b[1;33m,\u001b[0m \u001b[0mb\u001b[0m\u001b[1;33m,\u001b[0m \u001b[0mraise_on_error\u001b[0m\u001b[1;33m=\u001b[0m\u001b[0mraise_on_error\u001b[0m\u001b[1;33m)\u001b[0m\u001b[1;33m\u001b[0m\u001b[0m\n\u001b[0;32m    178\u001b[0m \u001b[1;33m\u001b[0m\u001b[0m\n",
        "\u001b[1;32m/home/leo/bin/anaconda/lib/python2.7/site-packages/pandas/computation/expressions.pyc\u001b[0m in \u001b[0;36m_evaluate_numexpr\u001b[1;34m(op, op_str, a, b, raise_on_error, truediv, **eval_kwargs)\u001b[0m\n\u001b[0;32m    114\u001b[0m \u001b[1;33m\u001b[0m\u001b[0m\n\u001b[0;32m    115\u001b[0m     \u001b[1;32mif\u001b[0m \u001b[0mresult\u001b[0m \u001b[1;32mis\u001b[0m \u001b[0mNone\u001b[0m\u001b[1;33m:\u001b[0m\u001b[1;33m\u001b[0m\u001b[0m\n\u001b[1;32m--> 116\u001b[1;33m         \u001b[0mresult\u001b[0m \u001b[1;33m=\u001b[0m \u001b[0m_evaluate_standard\u001b[0m\u001b[1;33m(\u001b[0m\u001b[0mop\u001b[0m\u001b[1;33m,\u001b[0m \u001b[0mop_str\u001b[0m\u001b[1;33m,\u001b[0m \u001b[0ma\u001b[0m\u001b[1;33m,\u001b[0m \u001b[0mb\u001b[0m\u001b[1;33m,\u001b[0m \u001b[0mraise_on_error\u001b[0m\u001b[1;33m)\u001b[0m\u001b[1;33m\u001b[0m\u001b[0m\n\u001b[0m\u001b[0;32m    117\u001b[0m \u001b[1;33m\u001b[0m\u001b[0m\n\u001b[0;32m    118\u001b[0m     \u001b[1;32mreturn\u001b[0m \u001b[0mresult\u001b[0m\u001b[1;33m\u001b[0m\u001b[0m\n",
        "\u001b[1;32m/home/leo/bin/anaconda/lib/python2.7/site-packages/pandas/computation/expressions.pyc\u001b[0m in \u001b[0;36m_evaluate_standard\u001b[1;34m(op, op_str, a, b, raise_on_error, **eval_kwargs)\u001b[0m\n\u001b[0;32m     62\u001b[0m     \u001b[1;32mif\u001b[0m \u001b[0m_TEST_MODE\u001b[0m\u001b[1;33m:\u001b[0m\u001b[1;33m\u001b[0m\u001b[0m\n\u001b[0;32m     63\u001b[0m         \u001b[0m_store_test_result\u001b[0m\u001b[1;33m(\u001b[0m\u001b[0mFalse\u001b[0m\u001b[1;33m)\u001b[0m\u001b[1;33m\u001b[0m\u001b[0m\n\u001b[1;32m---> 64\u001b[1;33m     \u001b[1;32mreturn\u001b[0m \u001b[0mop\u001b[0m\u001b[1;33m(\u001b[0m\u001b[0ma\u001b[0m\u001b[1;33m,\u001b[0m \u001b[0mb\u001b[0m\u001b[1;33m)\u001b[0m\u001b[1;33m\u001b[0m\u001b[0m\n\u001b[0m\u001b[0;32m     65\u001b[0m \u001b[1;33m\u001b[0m\u001b[0m\n\u001b[0;32m     66\u001b[0m \u001b[1;33m\u001b[0m\u001b[0m\n",
        "\u001b[1;31mValueError\u001b[0m: operands could not be broadcast together with shapes (675,) (600,) "
       ]
      }
     ],
     "prompt_number": 391
    },
    {
     "cell_type": "code",
     "collapsed": false,
     "input": [
      "i = diffzz > 0.01\n",
      "print height[i]"
     ],
     "language": "python",
     "metadata": {},
     "outputs": [
      {
       "output_type": "stream",
       "stream": "stdout",
       "text": [
        "[]\n"
       ]
      }
     ],
     "prompt_number": 332
    },
    {
     "cell_type": "code",
     "collapsed": false,
     "input": [
      "mpl.contourf(lon[:400], lat[:400], prism_tensor[:400, 0], shape, 50)\n",
      "mpl.colorbar()\n",
      "mpl.plot(lon[i], lat[i], '.k')"
     ],
     "language": "python",
     "metadata": {},
     "outputs": [
      {
       "metadata": {},
       "output_type": "pyout",
       "prompt_number": 333,
       "text": [
        "[<matplotlib.lines.Line2D at 0xa80e5d0>]"
       ]
      },
      {
       "metadata": {},
       "output_type": "display_data",
       "png": "[encoded data removed]",
       "text": [
        "<matplotlib.figure.Figure at 0xb11ff90>"
       ]
      }
     ],
     "prompt_number": 333
    },
    {
     "cell_type": "code",
     "collapsed": false,
     "input": [],
     "language": "python",
     "metadata": {},
     "outputs": [],
     "prompt_number": 194
    },
    {
     "cell_type": "code",
     "collapsed": false,
     "input": [],
     "language": "python",
     "metadata": {},
     "outputs": []
    }
   ],
   "metadata": {}
  }
 ]
}