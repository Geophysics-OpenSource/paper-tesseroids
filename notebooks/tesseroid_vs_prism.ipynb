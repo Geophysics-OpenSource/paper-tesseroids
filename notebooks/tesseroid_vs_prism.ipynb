{
 "metadata": {
  "name": "",
  "signature": "sha256:496ecfb48fb566ca49ee82dee10f75fb7ea151d32300385d2330fb871913278a"
 },
 "nbformat": 3,
 "nbformat_minor": 0,
 "worksheets": [
  {
   "cells": [
    {
     "cell_type": "code",
     "collapsed": false,
     "input": [
      "%matplotlib inline\n",
      "import os\n",
      "from matplotlib import pyplot as plt\n",
      "import numpy as np\n",
      "from fatiando.mesher import Tesseroid"
     ],
     "language": "python",
     "metadata": {},
     "outputs": [],
     "prompt_number": 7
    },
    {
     "cell_type": "markdown",
     "metadata": {},
     "source": [
      "Using Tesseroids version and default parameters:"
     ]
    },
    {
     "cell_type": "code",
     "collapsed": false,
     "input": [
      "!tessgz --version\n",
      "!echo\n",
      "!tessdefaults"
     ],
     "language": "python",
     "metadata": {},
     "outputs": [
      {
       "output_type": "stream",
       "stream": "stdout",
       "text": [
        "tessgz (Tesseroids project) 1.1.1\r\n",
        "\r\n",
        "Copyright (C) 2011-2014, Leonardo Uieda.\r\n",
        "This software is distributed under the terms of the BSD License:\r\n",
        "<http://tesseroids.readthedocs.org/en/latest/license.html>\r\n",
        "This is free software: you are free to change and redistribute it.\r\n",
        "There is NO WARRANTY, to the extent permitted by law.\r\n",
        "\r\n",
        "Developed by Leonardo Uieda.\r\n"
       ]
      },
      {
       "output_type": "stream",
       "stream": "stdout",
       "text": [
        "\r\n"
       ]
      },
      {
       "output_type": "stream",
       "stream": "stdout",
       "text": [
        "# Mean Earth radius (m)\r\n",
        "MEAN_EARTH_RADIUS = 6378137.0\r\n",
        "\r\n",
        "# Gravitational constant (m^3 kg^-1 s^-1)\r\n",
        "G = 6.673e-11\r\n",
        "\r\n",
        "# Conversion factor from SI units to Eotvos s^-2 = 10^9 Eotvos\r\n",
        "SI2EOTVOS = 1e+09\r\n",
        "\r\n",
        "# Conversion factor from SI units to mGal m s^-2} = 10^5 mGal\r\n",
        "SI2MGAL = 100000\r\n",
        "\r\n",
        "# Just pi\r\n",
        "PI = 3.1415926535897931159979634685442\r\n",
        "\r\n",
        "# Minimum distance/size ratio for computations to be\r\n",
        "# accurate. Used for knowing when to divide the tesseroids.\r\n",
        "TESSEROID_POT_SIZE_RATIO = 0.5\r\n",
        "TESSEROID_GX_SIZE_RATIO = 1\r\n",
        "TESSEROID_GY_SIZE_RATIO = 1\r\n",
        "TESSEROID_GZ_SIZE_RATIO = 1\r\n",
        "TESSEROID_GXX_SIZE_RATIO = 2.5\r\n",
        "TESSEROID_GXY_SIZE_RATIO = 2.5\r\n",
        "TESSEROID_GXZ_SIZE_RATIO = 2.5\r\n",
        "TESSEROID_GYY_SIZE_RATIO = 2.5\r\n",
        "TESSEROID_GYZ_SIZE_RATIO = 2.5\r\n",
        "TESSEROID_GZZ_SIZE_RATIO = 2.5\r\n",
        "\r\n",
        "# Max iterations of the Legendre polynomial root-finder algorithm\r\n",
        "GLQ_MAXIT = 1000\r\n",
        "\r\n",
        "# Max error allowed for the Legendre polynomial root-finder algorithm\r\n",
        "GLQ_MAXERROR = 1e-15\r\n"
       ]
      }
     ],
     "prompt_number": 52
    },
    {
     "cell_type": "code",
     "collapsed": false,
     "input": [
      "filedir = 'tesseroid_vs_prism_files'\n",
      "!mkdir -p $filedir"
     ],
     "language": "python",
     "metadata": {},
     "outputs": [],
     "prompt_number": 5
    },
    {
     "cell_type": "markdown",
     "metadata": {},
     "source": [
      "Make a tesseroid"
     ]
    },
    {
     "cell_type": "code",
     "collapsed": false,
     "input": [
      "tesseroid = Tesseroid(-0.01, 0.01, -0.01, 0.01, 0, -2200, {'density': 2670})"
     ],
     "language": "python",
     "metadata": {},
     "outputs": [],
     "prompt_number": 115
    },
    {
     "cell_type": "markdown",
     "metadata": {},
     "source": [
      "Save the tesseroid and a discretized version of the tesseroid to files. Convert the discretized version into prisms."
     ]
    },
    {
     "cell_type": "code",
     "collapsed": false,
     "input": [
      "def make_model_files(tess):\n",
      "    with open(os.path.join(filedir, 'model.tess'), 'w') as f:\n",
      "        f.write('{} {} {} {} {} {} {}\\n'.format(\n",
      "            tess.w, tess.e, tess.s, tess.n, tess.top, tess.bottom, \n",
      "            tess.props['density']))\n",
      "    with open(os.path.join(filedir, 'model-split.tess'), 'w') as f:\n",
      "        for t in tess.split(20, 20, 20):\n",
      "            f.write('{} {} {} {} {} {} {}\\n'.format(\n",
      "                t.w, t.e, t.s, t.n, t.top, t.bottom, t.props['density']))\n",
      "    !tess2prism $filedir/model-split.tess > $filedir/model.prism\n",
      "    !head $filedir/model.tess $filedir/model-split.tess $filedir/model.prism"
     ],
     "language": "python",
     "metadata": {},
     "outputs": [],
     "prompt_number": 116
    },
    {
     "cell_type": "code",
     "collapsed": false,
     "input": [
      "make_model_files(tesseroid)"
     ],
     "language": "python",
     "metadata": {},
     "outputs": [
      {
       "output_type": "stream",
       "stream": "stdout",
       "text": [
        "==> tesseroid_vs_prism_files/model.tess <==\r\n",
        "-0.01 0.01 -0.01 0.01 0.0 -2200.0 2670\r\n",
        "\r\n",
        "==> tesseroid_vs_prism_files/model-split.tess <==\r\n",
        "-0.01 -0.009 -0.01 -0.009 -2090.0 -2200.0 2670\r\n",
        "-0.01 -0.009 -0.01 -0.009 -1980.0 -2090.0 2670\r\n",
        "-0.01 -0.009 -0.01 -0.009 -1870.0 -1980.0 2670\r\n",
        "-0.01 -0.009 -0.01 -0.009 -1760.0 -1870.0 2670\r\n",
        "-0.01 -0.009 -0.01 -0.009 -1650.0 -1760.0 2670\r\n",
        "-0.01 -0.009 -0.01 -0.009 -1540.0 -1650.0 2670\r\n",
        "-0.01 -0.009 -0.01 -0.009 -1430.0 -1540.0 2670\r\n",
        "-0.01 -0.009 -0.01 -0.009 -1320.0 -1430.0 2670\r\n",
        "-0.01 -0.009 -0.01 -0.009 -1210.0 -1320.0 2670\r\n",
        "-0.01 -0.009 -0.01 -0.009 -1100.0 -1210.0 2670\r\n",
        "\r\n",
        "==> tesseroid_vs_prism_files/model.prism <==\r\n",
        "# Prisms converted from tesseroid model with tess2prism 1.1.1\r\n",
        "#   local time: Thu Jul 31 18:45:06 2014\r\n",
        "#   tesseroids file: tesseroid_vs_prism_files/model-split.tess\r\n",
        "#   conversion type: equal mass|spherical coordinates\r\n",
        "#   format: dx dy dz density lon lat r\r\n",
        "111.282053480818 111.282051951151 110 2670.00000003079 -0.0095 -0.0095 6376047\r\n",
        "111.283973342996 111.283971813302 110 2670.00000003207 -0.0095 -0.0095 6376157\r\n",
        "111.285893205173 111.285891675452 110 2670.00000003521 -0.0095 -0.0095 6376267\r\n",
        "111.28781306735 111.287811537603 110 2670.00000002719 -0.0095 -0.0095 6376377\r\n",
        "111.289732929527 111.289731399754 110 2670.00000003407 -0.0095 -0.0095 6376487\r\n"
       ]
      }
     ],
     "prompt_number": 117
    },
    {
     "cell_type": "markdown",
     "metadata": {},
     "source": [
      "Make a grid file"
     ]
    },
    {
     "cell_type": "code",
     "collapsed": false,
     "input": [
      "!echo > $filedir/grid.txt\n",
      "for h in np.linspace(10, 50e3, 5):\n",
      "    !tessgrd -r-0.015/0.015/-0.015/0.015 -b31/31 -z$h >> $filedir/grid.txt\n",
      "tmp = !cat $filedir/grid.txt | grep -v \"#\" | grep -e \"^$\" -v| wc -l\n",
      "npoints = int(tmp[0])\n",
      "!head $filedir/grid.txt\n",
      "!echo \"...\\nTotal grid points: \"$npoints "
     ],
     "language": "python",
     "metadata": {},
     "outputs": [
      {
       "output_type": "stream",
       "stream": "stdout",
       "text": [
        "\r\n",
        "# Grid generated with tessgrd 1.1.1:\r\n",
        "#   local time: Thu Jul 31 18:46:02 2014\r\n",
        "#   args: -r-0.015/0.015/-0.015/0.015 -b31/31 -z10\r\n",
        "#   grid spacing: 0.0010000000 lon / 0.0010000000 lat\r\n",
        "#   total 961 points\r\n",
        "-0.015 -0.015 10\r\n",
        "-0.014 -0.015 10\r\n",
        "-0.013 -0.015 10\r\n",
        "-0.012 -0.015 10\r\n"
       ]
      },
      {
       "output_type": "stream",
       "stream": "stdout",
       "text": [
        "...\r\n",
        "Total grid points: 4805\r\n"
       ]
      }
     ],
     "prompt_number": 120
    },
    {
     "cell_type": "markdown",
     "metadata": {},
     "source": [
      "Calculate the prism effects."
     ]
    },
    {
     "cell_type": "code",
     "collapsed": false,
     "input": [
      "!cat $filedir/grid.txt | \\\n",
      "    prismpots $filedir/model.prism | \\\n",
      "    prismgs $filedir/model.prism | \\\n",
      "    prismggts $filedir/model.prism > $filedir/prism-effect.txt"
     ],
     "language": "python",
     "metadata": {},
     "outputs": [],
     "prompt_number": 121
    },
    {
     "cell_type": "markdown",
     "metadata": {},
     "source": [
      "Calculate the tesseroid effects for various distance/size ratios."
     ]
    },
    {
     "cell_type": "code",
     "collapsed": false,
     "input": [
      "def calc_tess_effect(ratio):\n",
      "    if ratio == 0:\n",
      "        flag = '-a'\n",
      "    else:\n",
      "        flag = '-t{:f}'.format(ratio)\n",
      "    outfile = os.path.join(filedir, 'tess-effect-{:f}.txt'.format(ratio))\n",
      "    !cat $filedir/grid.txt | \\\n",
      "        tesspot $filedir/model.tess $flag | \\\n",
      "        tessgx $filedir/model.tess $flag | \\\n",
      "        tessgy $filedir/model.tess $flag | \\\n",
      "        tessgz $filedir/model.tess $flag | \\\n",
      "        tessgxx $filedir/model.tess $flag | \\\n",
      "        tessgxy $filedir/model.tess $flag | \\\n",
      "        tessgxz $filedir/model.tess $flag | \\\n",
      "        tessgyy $filedir/model.tess $flag | \\\n",
      "        tessgyz $filedir/model.tess $flag | \\\n",
      "        tessgzz $filedir/model.tess $flag > $outfile\n",
      "    return outfile"
     ],
     "language": "python",
     "metadata": {},
     "outputs": [],
     "prompt_number": 122
    },
    {
     "cell_type": "code",
     "collapsed": false,
     "input": [
      "ratio = np.arange(0, 5.5, 0.5)\n",
      "tess_files = [calc_tess_effect(r) for r in ratio]"
     ],
     "language": "python",
     "metadata": {},
     "outputs": [],
     "prompt_number": 127
    },
    {
     "cell_type": "markdown",
     "metadata": {},
     "source": [
      "Compare the two:"
     ]
    },
    {
     "cell_type": "code",
     "collapsed": false,
     "input": [
      "def load_data(fname):\n",
      "    data = np.loadtxt(fname, usecols=[3, 4, 5, 6, 7, 8, 9, 10, 11, 12])\n",
      "    return data"
     ],
     "language": "python",
     "metadata": {},
     "outputs": [],
     "prompt_number": 123
    },
    {
     "cell_type": "code",
     "collapsed": false,
     "input": [
      "dprism = load_data(os.path.join(filedir, 'prism-effect.txt'))\n",
      "assert dprism.shape == (npoints, 10)\n",
      "diff = np.empty((10, ratio.size))\n",
      "reldiff = np.empty_like(diff)\n",
      "for i, fname in enumerate(tess_files):\n",
      "    dtess = load_data(fname)\n",
      "    assert dtess.shape == dprism.shape\n",
      "    absdiff = np.abs(dprism - dtess)\n",
      "    diff[:, i] = absdiff.max(axis=0)\n",
      "    for j in xrange(10):\n",
      "        field = dprism[:, j]\n",
      "        # Find the index of the point where the difference is maximum\n",
      "        maxpoint = np.where(absdiff[:, j] == diff[j, i])[0]\n",
      "        # Divide by the field value of the point of maximum difference\n",
      "        reldiff[j, i] = diff[j, i]/np.abs(field[maxpoint][0])"
     ],
     "language": "python",
     "metadata": {},
     "outputs": [],
     "prompt_number": 128
    },
    {
     "cell_type": "code",
     "collapsed": false,
     "input": [
      "labels = ['V', 'gx', 'gy', 'gz', 'gxx', 'gxy', 'gxz', 'gyy', 'gyz', 'gzz']\n",
      "plt.figure(figsize=(10, 4))\n",
      "ax = plt.subplot(1, 2, 1)\n",
      "for i in [0, 3, -1]:\n",
      "    plt.plot(ratio, diff[i, :], label=labels[i])\n",
      "plt.legend(loc='upper right')\n",
      "plt.grid(True)\n",
      "ax.set_yscale('log')\n",
      "plt.ylabel('Max. difference')\n",
      "plt.xlabel('Distance/size ratio')\n",
      "\n",
      "ax = plt.subplot(1, 2, 2)\n",
      "for i in [0, 3, -1]:\n",
      "    plt.plot(ratio, 100*reldiff[i, :], label=labels[i])\n",
      "plt.legend(loc='upper right')\n",
      "plt.grid(True)\n",
      "ax.set_yscale('log')\n",
      "plt.ylabel('Max. difference (%)')\n",
      "plt.xlabel('Distance/size ratio')\n",
      "\n",
      "plt.tight_layout()"
     ],
     "language": "python",
     "metadata": {},
     "outputs": [
      {
       "metadata": {},
       "output_type": "display_data",
       "png": "[encoded data removed]",
       "text": [
        "<matplotlib.figure.Figure at 0x7fe132eb4950>"
       ]
      }
     ],
     "prompt_number": 132
    },
    {
     "cell_type": "code",
     "collapsed": false,
     "input": [
      "!rm -rf $filedir"
     ],
     "language": "python",
     "metadata": {},
     "outputs": [],
     "prompt_number": 133
    },
    {
     "cell_type": "code",
     "collapsed": false,
     "input": [],
     "language": "python",
     "metadata": {},
     "outputs": []
    }
   ],
   "metadata": {}
  }
 ]
}